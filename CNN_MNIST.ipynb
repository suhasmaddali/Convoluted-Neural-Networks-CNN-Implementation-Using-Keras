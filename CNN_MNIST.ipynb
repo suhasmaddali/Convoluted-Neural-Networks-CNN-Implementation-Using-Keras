{
 "cells": [
  {
   "cell_type": "code",
   "execution_count": 1,
   "metadata": {
    "colab": {
     "base_uri": "https://localhost:8080/",
     "height": 551
    },
    "colab_type": "code",
    "executionInfo": {
     "elapsed": 1970705,
     "status": "ok",
     "timestamp": 1524577821923,
     "user": {
      "displayName": "Applied AI Course",
      "photoUrl": "//lh3.googleusercontent.com/-EsJzSyawCkQ/AAAAAAAAAAI/AAAAAAAAAWk/jhKHALKaHag/s50-c-k-no/photo.jpg",
      "userId": "116292885805316472049"
     },
     "user_tz": -330
    },
    "id": "H9EU0e8yzFOm",
    "outputId": "b9a7331d-3a52-4991-f4a2-eaa64e288eb9"
   },
   "outputs": [
    {
     "name": "stderr",
     "output_type": "stream",
     "text": [
      "Using TensorFlow backend.\n"
     ]
    },
    {
     "name": "stdout",
     "output_type": "stream",
     "text": [
      "x_train shape: (60000, 28, 28, 1)\n",
      "60000 train samples\n",
      "10000 test samples\n",
      "Train on 60000 samples, validate on 10000 samples\n",
      "Epoch 1/12\n",
      "60000/60000 [==============================] - 10s 160us/step - loss: 0.2712 - acc: 0.9166 - val_loss: 0.0540 - val_acc: 0.9831\n",
      "Epoch 2/12\n",
      "60000/60000 [==============================] - 4s 63us/step - loss: 0.0880 - acc: 0.9741 - val_loss: 0.0398 - val_acc: 0.9862\n",
      "Epoch 3/12\n",
      "60000/60000 [==============================] - 4s 62us/step - loss: 0.0664 - acc: 0.9804 - val_loss: 0.0351 - val_acc: 0.9875\n",
      "Epoch 4/12\n",
      "60000/60000 [==============================] - 4s 62us/step - loss: 0.0563 - acc: 0.9838 - val_loss: 0.0394 - val_acc: 0.9870\n",
      "Epoch 5/12\n",
      "60000/60000 [==============================] - 4s 63us/step - loss: 0.0467 - acc: 0.9861 - val_loss: 0.0317 - val_acc: 0.9892\n",
      "Epoch 6/12\n",
      "60000/60000 [==============================] - 4s 62us/step - loss: 0.0419 - acc: 0.9872 - val_loss: 0.0278 - val_acc: 0.9908\n",
      "Epoch 7/12\n",
      "60000/60000 [==============================] - 4s 62us/step - loss: 0.0372 - acc: 0.9884 - val_loss: 0.0289 - val_acc: 0.9893\n",
      "Epoch 8/12\n",
      "60000/60000 [==============================] - 4s 63us/step - loss: 0.0356 - acc: 0.9888 - val_loss: 0.0383 - val_acc: 0.9882\n",
      "Epoch 9/12\n",
      "60000/60000 [==============================] - 4s 66us/step - loss: 0.0329 - acc: 0.9901 - val_loss: 0.0296 - val_acc: 0.9902\n",
      "Epoch 10/12\n",
      "60000/60000 [==============================] - 4s 63us/step - loss: 0.0306 - acc: 0.9906 - val_loss: 0.0270 - val_acc: 0.9915\n",
      "Epoch 11/12\n",
      "60000/60000 [==============================] - 4s 61us/step - loss: 0.0280 - acc: 0.9917 - val_loss: 0.0289 - val_acc: 0.9904\n",
      "Epoch 12/12\n",
      "60000/60000 [==============================] - 4s 61us/step - loss: 0.0276 - acc: 0.9912 - val_loss: 0.0282 - val_acc: 0.9913\n",
      "Test loss: 0.02820607627110585\n",
      "Test accuracy: 0.9913\n"
     ]
    }
   ],
   "source": [
    "# Credits: https://github.com/keras-team/keras/blob/master/examples/mnist_cnn.py\n",
    "\n",
    "\n",
    "from __future__ import print_function\n",
    "import keras\n",
    "from keras.datasets import mnist\n",
    "from keras.models import Sequential\n",
    "from keras.layers import Dense, Dropout, Flatten\n",
    "from keras.layers import Conv2D, MaxPooling2D\n",
    "from keras import backend as K\n",
    "\n",
    "batch_size = 128\n",
    "num_classes = 10\n",
    "epochs = 12\n",
    "\n",
    "# input image dimensions\n",
    "img_rows, img_cols = 28, 28\n",
    "\n",
    "# the data, split between train and test sets\n",
    "(x_train, y_train), (x_test, y_test) = mnist.load_data()\n",
    "\n",
    "if K.image_data_format() == 'channels_first':\n",
    "    x_train = x_train.reshape(x_train.shape[0], 1, img_rows, img_cols)\n",
    "    x_test = x_test.reshape(x_test.shape[0], 1, img_rows, img_cols)\n",
    "    input_shape = (1, img_rows, img_cols)\n",
    "else:\n",
    "    x_train = x_train.reshape(x_train.shape[0], img_rows, img_cols, 1)\n",
    "    x_test = x_test.reshape(x_test.shape[0], img_rows, img_cols, 1)\n",
    "    input_shape = (img_rows, img_cols, 1)\n",
    "\n",
    "x_train = x_train.astype('float32')\n",
    "x_test = x_test.astype('float32')\n",
    "x_train /= 255\n",
    "x_test /= 255\n",
    "print('x_train shape:', x_train.shape)\n",
    "print(x_train.shape[0], 'train samples')\n",
    "print(x_test.shape[0], 'test samples')\n",
    "\n",
    "# convert class vectors to binary class matrices\n",
    "y_train = keras.utils.to_categorical(y_train, num_classes)\n",
    "y_test = keras.utils.to_categorical(y_test, num_classes)\n",
    "\n",
    "model = Sequential()\n",
    "model.add(Conv2D(32, kernel_size=(3, 3),\n",
    "                 activation='relu',\n",
    "                 input_shape=input_shape))\n",
    "model.add(Conv2D(64, (3, 3), activation='relu'))\n",
    "model.add(MaxPooling2D(pool_size=(2, 2)))\n",
    "model.add(Dropout(0.25))\n",
    "model.add(Flatten())\n",
    "model.add(Dense(128, activation='relu'))\n",
    "model.add(Dropout(0.5))\n",
    "model.add(Dense(num_classes, activation='softmax'))\n",
    "\n",
    "model.compile(loss=keras.losses.categorical_crossentropy,\n",
    "              optimizer=keras.optimizers.Adadelta(),\n",
    "              metrics=['accuracy'])\n",
    "\n",
    "model.fit(x_train, y_train,\n",
    "          batch_size=batch_size,\n",
    "          epochs=epochs,\n",
    "          verbose=1,\n",
    "          validation_data=(x_test, y_test))\n",
    "score = model.evaluate(x_test, y_test, verbose=0)\n",
    "print('Test loss:', score[0])\n",
    "print('Test accuracy:', score[1])"
   ]
  },
  {
   "cell_type": "markdown",
   "metadata": {},
   "source": [
    "<h1>Considered 3 * 3 kernal size and considered 3 such layers</h1>"
   ]
  },
  {
   "cell_type": "code",
   "execution_count": 2,
   "metadata": {},
   "outputs": [],
   "source": [
    "def plt_dynamic(x, vy, ty, ax, colors=['b']):\n",
    "    ax.plot(x, vy, 'b', label=\"Validation Loss\")\n",
    "    ax.plot(x, ty, 'r', label=\"Train Loss\")\n",
    "    plt.legend()\n",
    "    plt.grid()\n",
    "    fig.canvas.draw()"
   ]
  },
  {
   "cell_type": "code",
   "execution_count": 3,
   "metadata": {},
   "outputs": [
    {
     "name": "stdout",
     "output_type": "stream",
     "text": [
      "Train on 60000 samples, validate on 10000 samples\n",
      "Epoch 1/12\n",
      "60000/60000 [==============================] - 5s 75us/step - loss: 0.4620 - acc: 0.8510 - val_loss: 0.0706 - val_acc: 0.9782\n",
      "Epoch 2/12\n",
      "60000/60000 [==============================] - 4s 69us/step - loss: 0.1179 - acc: 0.9669 - val_loss: 0.0467 - val_acc: 0.9854\n",
      "Epoch 3/12\n",
      "60000/60000 [==============================] - 4s 68us/step - loss: 0.0867 - acc: 0.9758 - val_loss: 0.0439 - val_acc: 0.9870\n",
      "Epoch 4/12\n",
      "60000/60000 [==============================] - 4s 68us/step - loss: 0.0715 - acc: 0.9807 - val_loss: 0.0367 - val_acc: 0.9890\n",
      "Epoch 5/12\n",
      "60000/60000 [==============================] - 4s 68us/step - loss: 0.0605 - acc: 0.9829 - val_loss: 0.0373 - val_acc: 0.9892\n",
      "Epoch 6/12\n",
      "60000/60000 [==============================] - 4s 68us/step - loss: 0.0505 - acc: 0.9863 - val_loss: 0.0379 - val_acc: 0.9883\n",
      "Epoch 7/12\n",
      "60000/60000 [==============================] - 4s 68us/step - loss: 0.0446 - acc: 0.9876 - val_loss: 0.0383 - val_acc: 0.9906\n",
      "Epoch 8/12\n",
      "60000/60000 [==============================] - 4s 68us/step - loss: 0.0407 - acc: 0.9889 - val_loss: 0.0319 - val_acc: 0.9918\n",
      "Epoch 9/12\n",
      "60000/60000 [==============================] - 4s 68us/step - loss: 0.0359 - acc: 0.9899 - val_loss: 0.0284 - val_acc: 0.9924\n",
      "Epoch 10/12\n",
      "60000/60000 [==============================] - 4s 68us/step - loss: 0.0320 - acc: 0.9908 - val_loss: 0.0315 - val_acc: 0.9919\n",
      "Epoch 11/12\n",
      "60000/60000 [==============================] - 4s 68us/step - loss: 0.0305 - acc: 0.9914 - val_loss: 0.0283 - val_acc: 0.9926\n",
      "Epoch 12/12\n",
      "60000/60000 [==============================] - 4s 69us/step - loss: 0.0285 - acc: 0.9923 - val_loss: 0.0265 - val_acc: 0.9931\n",
      "Test loss: 0.026470952345031218\n",
      "Test accuracy: 0.9931\n"
     ]
    }
   ],
   "source": [
    "model = Sequential()\n",
    "model.add(Conv2D(32, kernel_size=(3, 3),\n",
    "                 activation='relu',\n",
    "                 input_shape=input_shape))\n",
    "model.add(Conv2D(64, (3, 3), activation='relu'))\n",
    "model.add(MaxPooling2D(pool_size=(2, 2)))\n",
    "model.add(Conv2D(64, (3, 3), activation = 'relu'))\n",
    "model.add(MaxPooling2D(pool_size = (2, 2)))\n",
    "model.add(Conv2D(64, (3, 3), activation = 'relu'))\n",
    "model.add(MaxPooling2D(pool_size = (2, 2)))\n",
    "model.add(Dropout(0.25))\n",
    "model.add(Flatten())\n",
    "model.add(Dense(128, activation='relu'))\n",
    "model.add(Dropout(0.5))\n",
    "model.add(Dense(num_classes, activation='softmax'))\n",
    "\n",
    "model.compile(loss=keras.losses.categorical_crossentropy,\n",
    "              optimizer=keras.optimizers.Adadelta(),\n",
    "              metrics=['accuracy'])\n",
    "\n",
    "history = model.fit(x_train, y_train,\n",
    "          batch_size=batch_size,\n",
    "          epochs=epochs,\n",
    "          verbose=1,\n",
    "          validation_data=(x_test, y_test))\n",
    "score = model.evaluate(x_test, y_test, verbose=0)\n",
    "print('Test loss:', score[0])\n",
    "print('Test accuracy:', score[1])"
   ]
  },
  {
   "cell_type": "code",
   "execution_count": 5,
   "metadata": {},
   "outputs": [
    {
     "name": "stdout",
     "output_type": "stream",
     "text": [
      "Test score: 0.026470952345031218\n",
      "Test accuracy: 0.9931\n"
     ]
    },
    {
     "data": {
      "image/png": "[encoded data removed]",
      "text/plain": [
       "<Figure size 432x288 with 1 Axes>"
      ]
     },
     "metadata": {
      "needs_background": "light"
     },
     "output_type": "display_data"
    }
   ],
   "source": [
    "import matplotlib.pyplot as plt\n",
    "score = model.evaluate(x_test, y_test, verbose=0) \n",
    "print('Test score:', score[0]) \n",
    "print('Test accuracy:', score[1])\n",
    "\n",
    "fig,ax = plt.subplots(1,1)\n",
    "ax.set_xlabel('epoch') ; ax.set_ylabel('Categorical Crossentropy Loss')\n",
    "\n",
    "# list of epoch numbers\n",
    "x = list(range(1,epochs+1))\n",
    "\n",
    "# print(history.history.keys())\n",
    "# dict_keys(['val_loss', 'val_acc', 'loss', 'acc'])\n",
    "# history = model_drop.fit(X_train, Y_train, batch_size=batch_size, epochs=nb_epoch, verbose=1, validation_data=(X_test, Y_test))\n",
    "\n",
    "# we will get val_loss and val_acc only when you pass the paramter validation_data\n",
    "# val_loss : validation loss\n",
    "# val_acc : validation accuracy\n",
    "\n",
    "# loss : training loss\n",
    "# acc : train accuracy\n",
    "# for each key in histrory.histrory we will have a list of length equal to number of epochs\n",
    "def plt_dynamic(x, vy, ty, ax, colors=['b']):\n",
    "    ax.plot(x, vy, 'b', label=\"Validation Loss\")\n",
    "    ax.plot(x, ty, 'r', label=\"Train Loss\")\n",
    "    plt.legend()\n",
    "    plt.grid()\n",
    "    fig.canvas.draw()\n",
    "\n",
    "vy = history.history['val_loss']\n",
    "ty = history.history['loss']\n",
    "plt_dynamic(x, vy, ty, ax)"
   ]
  },
  {
   "cell_type": "markdown",
   "metadata": {},
   "source": [
    "<h1>Considered a single layer and the kernal size of that layer is 5 * 5</h1>"
   ]
  },
  {
   "cell_type": "code",
   "execution_count": 6,
   "metadata": {},
   "outputs": [
    {
     "name": "stdout",
     "output_type": "stream",
     "text": [
      "Train on 60000 samples, validate on 10000 samples\n",
      "Epoch 1/12\n",
      "60000/60000 [==============================] - 19s 312us/step - loss: 0.2461 - acc: 0.9255 - val_loss: 0.0671 - val_acc: 0.9792\n",
      "Epoch 2/12\n",
      "60000/60000 [==============================] - 17s 288us/step - loss: 0.0835 - acc: 0.9750 - val_loss: 0.0422 - val_acc: 0.9871\n",
      "Epoch 3/12\n",
      "60000/60000 [==============================] - 17s 289us/step - loss: 0.0644 - acc: 0.9802 - val_loss: 0.0456 - val_acc: 0.9845\n",
      "Epoch 4/12\n",
      "60000/60000 [==============================] - 17s 289us/step - loss: 0.0498 - acc: 0.9853 - val_loss: 0.0340 - val_acc: 0.9882\n",
      "Epoch 5/12\n",
      "60000/60000 [==============================] - 17s 289us/step - loss: 0.0438 - acc: 0.9865 - val_loss: 0.0316 - val_acc: 0.9898\n",
      "Epoch 6/12\n",
      "60000/60000 [==============================] - 17s 290us/step - loss: 0.0369 - acc: 0.9891 - val_loss: 0.0368 - val_acc: 0.9879\n",
      "Epoch 7/12\n",
      "60000/60000 [==============================] - 17s 291us/step - loss: 0.0353 - acc: 0.9890 - val_loss: 0.0325 - val_acc: 0.9903\n",
      "Epoch 8/12\n",
      "60000/60000 [==============================] - 17s 291us/step - loss: 0.0310 - acc: 0.9904 - val_loss: 0.0356 - val_acc: 0.9901\n",
      "Epoch 9/12\n",
      "60000/60000 [==============================] - 17s 290us/step - loss: 0.0308 - acc: 0.9905 - val_loss: 0.0354 - val_acc: 0.9901\n",
      "Epoch 10/12\n",
      "60000/60000 [==============================] - 17s 290us/step - loss: 0.0256 - acc: 0.9921 - val_loss: 0.0311 - val_acc: 0.9908\n",
      "Epoch 11/12\n",
      "60000/60000 [==============================] - 17s 290us/step - loss: 0.0265 - acc: 0.9916 - val_loss: 0.0357 - val_acc: 0.9906\n",
      "Epoch 12/12\n",
      "60000/60000 [==============================] - 17s 291us/step - loss: 0.0229 - acc: 0.9931 - val_loss: 0.0306 - val_acc: 0.9914\n",
      "Test loss: 0.030556872636625758\n",
      "Test accuracy: 0.9914\n"
     ]
    }
   ],
   "source": [
    "model = Sequential()\n",
    "model.add(Conv2D(256, kernel_size=(1, 1),\n",
    "                 activation='relu',\n",
    "                 input_shape=input_shape))\n",
    "model.add(Conv2D(256, (5, 5), activation='relu'))\n",
    "model.add(MaxPooling2D(pool_size=(2, 2)))\n",
    "model.add(Dropout(0.25))\n",
    "model.add(Flatten())\n",
    "model.add(Dense(128, activation='relu'))\n",
    "model.add(Dropout(0.5))\n",
    "model.add(Dense(num_classes, activation='softmax'))\n",
    "\n",
    "model.compile(loss=keras.losses.categorical_crossentropy,\n",
    "              optimizer=keras.optimizers.Adadelta(),\n",
    "              metrics=['accuracy'])\n",
    "\n",
    "history = model.fit(x_train, y_train,\n",
    "          batch_size=batch_size,\n",
    "          epochs=epochs,\n",
    "          verbose=1,\n",
    "          validation_data=(x_test, y_test))\n",
    "score = model.evaluate(x_test, y_test, verbose=0)\n",
    "print('Test loss:', score[0])\n",
    "print('Test accuracy:', score[1])"
   ]
  },
  {
   "cell_type": "code",
   "execution_count": 14,
   "metadata": {},
   "outputs": [
    {
     "name": "stdout",
     "output_type": "stream",
     "text": [
      "Test score: 0.030903831466715884\n",
      "Test accuracy: 0.9907\n"
     ]
    },
    {
     "data": {
      "image/png": "[encoded data removed]",
      "text/plain": [
       "<Figure size 432x288 with 1 Axes>"
      ]
     },
     "metadata": {
      "needs_background": "light"
     },
     "output_type": "display_data"
    }
   ],
   "source": [
    "import matplotlib.pyplot as plt\n",
    "score = model.evaluate(x_test, y_test, verbose=0) \n",
    "print('Test score:', score[0]) \n",
    "print('Test accuracy:', score[1])\n",
    "\n",
    "fig,ax = plt.subplots(1,1)\n",
    "ax.set_xlabel('epoch') ; ax.set_ylabel('Categorical Crossentropy Loss')\n",
    "\n",
    "# list of epoch numbers\n",
    "x = list(range(1,epochs+1))\n",
    "\n",
    "# print(history.history.keys())\n",
    "# dict_keys(['val_loss', 'val_acc', 'loss', 'acc'])\n",
    "# history = model_drop.fit(X_train, Y_train, batch_size=batch_size, epochs=nb_epoch, verbose=1, validation_data=(X_test, Y_test))\n",
    "\n",
    "# we will get val_loss and val_acc only when you pass the paramter validation_data\n",
    "# val_loss : validation loss\n",
    "# val_acc : validation accuracy\n",
    "\n",
    "# loss : training loss\n",
    "# acc : train accuracy\n",
    "# for each key in histrory.histrory we will have a list of length equal to number of epochs\n",
    "def plt_dynamic(x, vy, ty, ax, colors=['b']):\n",
    "    ax.plot(x, vy, 'b', label=\"Validation Loss\")\n",
    "    ax.plot(x, ty, 'r', label=\"Train Loss\")\n",
    "    plt.legend()\n",
    "    plt.grid()\n",
    "    fig.canvas.draw()\n",
    "\n",
    "vy = history.history['val_loss']\n",
    "ty = history.history['loss']\n",
    "plt_dynamic(x, vy, ty, ax)"
   ]
  },
  {
   "cell_type": "markdown",
   "metadata": {},
   "source": [
    "<h1>Considered 5 * 5 kernal size and also, 5 such layers</h1>"
   ]
  },
  {
   "cell_type": "code",
   "execution_count": 15,
   "metadata": {},
   "outputs": [
    {
     "name": "stdout",
     "output_type": "stream",
     "text": [
      "Train on 60000 samples, validate on 10000 samples\n",
      "Epoch 1/12\n",
      "60000/60000 [==============================] - 12s 202us/step - loss: 0.3157 - acc: 0.9031 - val_loss: 0.0609 - val_acc: 0.9830\n",
      "Epoch 2/12\n",
      "60000/60000 [==============================] - 11s 183us/step - loss: 0.0714 - acc: 0.9801 - val_loss: 0.0399 - val_acc: 0.9880\n",
      "Epoch 3/12\n",
      "60000/60000 [==============================] - 11s 184us/step - loss: 0.0492 - acc: 0.9855 - val_loss: 0.0246 - val_acc: 0.9917\n",
      "Epoch 4/12\n",
      "60000/60000 [==============================] - 11s 183us/step - loss: 0.0404 - acc: 0.9880 - val_loss: 0.0249 - val_acc: 0.9916\n",
      "Epoch 5/12\n",
      "60000/60000 [==============================] - 11s 184us/step - loss: 0.0327 - acc: 0.9904 - val_loss: 0.0313 - val_acc: 0.9897\n",
      "Epoch 6/12\n",
      "60000/60000 [==============================] - 11s 183us/step - loss: 0.0283 - acc: 0.9918 - val_loss: 0.0207 - val_acc: 0.9931\n",
      "Epoch 7/12\n",
      "60000/60000 [==============================] - 11s 183us/step - loss: 0.0249 - acc: 0.9925 - val_loss: 0.0165 - val_acc: 0.9941\n",
      "Epoch 8/12\n",
      "60000/60000 [==============================] - 11s 184us/step - loss: 0.0216 - acc: 0.9935 - val_loss: 0.0177 - val_acc: 0.9943\n",
      "Epoch 9/12\n",
      "60000/60000 [==============================] - 11s 183us/step - loss: 0.0200 - acc: 0.9941 - val_loss: 0.0187 - val_acc: 0.9943\n",
      "Epoch 10/12\n",
      "60000/60000 [==============================] - 11s 183us/step - loss: 0.0170 - acc: 0.9949 - val_loss: 0.0336 - val_acc: 0.9916\n",
      "Epoch 11/12\n",
      "60000/60000 [==============================] - 11s 184us/step - loss: 0.0162 - acc: 0.9950 - val_loss: 0.0185 - val_acc: 0.9951\n",
      "Epoch 12/12\n",
      "60000/60000 [==============================] - 11s 184us/step - loss: 0.0143 - acc: 0.9960 - val_loss: 0.0178 - val_acc: 0.9945\n",
      "Test loss: 0.017813472083506803\n",
      "Test accuracy: 0.9945\n"
     ]
    }
   ],
   "source": [
    "model = Sequential()\n",
    "model.add(Conv2D(32, kernel_size=(1, 1),\n",
    "                 activation='relu',\n",
    "                 input_shape=input_shape, padding = 'same'))\n",
    "model.add(Conv2D(64, (5, 5), activation='relu', padding = 'same'))\n",
    "model.add(Conv2D(64, (5, 5), activation='relu', padding = 'same'))\n",
    "model.add(Conv2D(64, (5, 5), activation='relu', padding = 'same'))\n",
    "model.add(Conv2D(64, (5, 5), activation='relu', padding = 'same'))\n",
    "model.add(Conv2D(64, (5, 5), activation='relu', padding = 'same'))\n",
    "model.add(MaxPooling2D(pool_size=(2, 2)))\n",
    "model.add(Dropout(0.25))\n",
    "model.add(Flatten())\n",
    "model.add(Dense(128, activation='relu'))\n",
    "model.add(Dropout(0.5))\n",
    "model.add(Dense(num_classes, activation='softmax'))\n",
    "\n",
    "model.compile(loss=keras.losses.categorical_crossentropy,\n",
    "              optimizer=keras.optimizers.Adadelta(),\n",
    "              metrics=['accuracy'])\n",
    "\n",
    "history = model.fit(x_train, y_train,\n",
    "          batch_size=batch_size,\n",
    "          epochs=epochs,\n",
    "          verbose=1,\n",
    "          validation_data=(x_test, y_test))\n",
    "score = model.evaluate(x_test, y_test, verbose=0)\n",
    "print('Test loss:', score[0])\n",
    "print('Test accuracy:', score[1])"
   ]
  },
  {
   "cell_type": "code",
   "execution_count": 16,
   "metadata": {},
   "outputs": [
    {
     "name": "stdout",
     "output_type": "stream",
     "text": [
      "Test score: 0.017813472083506803\n",
      "Test accuracy: 0.9945\n"
     ]
    },
    {
     "data": {
      "image/png": "[encoded data removed]",
      "text/plain": [
       "<Figure size 432x288 with 1 Axes>"
      ]
     },
     "metadata": {
      "needs_background": "light"
     },
     "output_type": "display_data"
    }
   ],
   "source": [
    "import matplotlib.pyplot as plt\n",
    "score = model.evaluate(x_test, y_test, verbose=0) \n",
    "print('Test score:', score[0]) \n",
    "print('Test accuracy:', score[1])\n",
    "\n",
    "fig,ax = plt.subplots(1,1)\n",
    "ax.set_xlabel('epoch') ; ax.set_ylabel('Categorical Crossentropy Loss')\n",
    "\n",
    "# list of epoch numbers\n",
    "x = list(range(1,epochs+1))\n",
    "\n",
    "# print(history.history.keys())\n",
    "# dict_keys(['val_loss', 'val_acc', 'loss', 'acc'])\n",
    "# history = model_drop.fit(X_train, Y_train, batch_size=batch_size, epochs=nb_epoch, verbose=1, validation_data=(X_test, Y_test))\n",
    "\n",
    "# we will get val_loss and val_acc only when you pass the paramter validation_data\n",
    "# val_loss : validation loss\n",
    "# val_acc : validation accuracy\n",
    "\n",
    "# loss : training loss\n",
    "# acc : train accuracy\n",
    "# for each key in histrory.histrory we will have a list of length equal to number of epochs\n",
    "def plt_dynamic(x, vy, ty, ax, colors=['b']):\n",
    "    ax.plot(x, vy, 'b', label=\"Validation Loss\")\n",
    "    ax.plot(x, ty, 'r', label=\"Train Loss\")\n",
    "    plt.legend()\n",
    "    plt.grid()\n",
    "    fig.canvas.draw()\n",
    "\n",
    "vy = history.history['val_loss']\n",
    "ty = history.history['loss']\n",
    "plt_dynamic(x, vy, ty, ax)"
   ]
  },
  {
   "cell_type": "markdown",
   "metadata": {},
   "source": [
    "<h1>Considered 7 *7 kernal size and 7 layers</h1>"
   ]
  },
  {
   "cell_type": "code",
   "execution_count": 17,
   "metadata": {},
   "outputs": [
    {
     "name": "stdout",
     "output_type": "stream",
     "text": [
      "Train on 60000 samples, validate on 10000 samples\n",
      "Epoch 1/12\n",
      "60000/60000 [==============================] - 14s 241us/step - loss: 0.4544 - acc: 0.8598 - val_loss: 0.0982 - val_acc: 0.9723\n",
      "Epoch 2/12\n",
      "60000/60000 [==============================] - 13s 222us/step - loss: 0.1037 - acc: 0.9722 - val_loss: 0.0704 - val_acc: 0.9775\n",
      "Epoch 3/12\n",
      "60000/60000 [==============================] - 13s 222us/step - loss: 0.0769 - acc: 0.9793 - val_loss: 0.0532 - val_acc: 0.9848\n",
      "Epoch 4/12\n",
      "60000/60000 [==============================] - 13s 223us/step - loss: 0.0604 - acc: 0.9835 - val_loss: 0.0345 - val_acc: 0.9915\n",
      "Epoch 5/12\n",
      "60000/60000 [==============================] - 13s 222us/step - loss: 0.0524 - acc: 0.9856 - val_loss: 0.0320 - val_acc: 0.9906\n",
      "Epoch 6/12\n",
      "60000/60000 [==============================] - 13s 224us/step - loss: 0.0434 - acc: 0.9880 - val_loss: 0.0341 - val_acc: 0.9918\n",
      "Epoch 7/12\n",
      "60000/60000 [==============================] - 13s 222us/step - loss: 0.0409 - acc: 0.9890 - val_loss: 0.0364 - val_acc: 0.9917\n",
      "Epoch 8/12\n",
      "60000/60000 [==============================] - 13s 222us/step - loss: 0.0359 - acc: 0.9903 - val_loss: 0.0368 - val_acc: 0.9907\n",
      "Epoch 9/12\n",
      "60000/60000 [==============================] - 13s 222us/step - loss: 0.0325 - acc: 0.9912 - val_loss: 0.0348 - val_acc: 0.9910\n",
      "Epoch 10/12\n",
      "60000/60000 [==============================] - 13s 222us/step - loss: 0.0295 - acc: 0.9920 - val_loss: 0.0303 - val_acc: 0.9918\n",
      "Epoch 11/12\n",
      "60000/60000 [==============================] - 13s 222us/step - loss: 0.0276 - acc: 0.9922 - val_loss: 0.0343 - val_acc: 0.9908\n",
      "Epoch 12/12\n",
      "60000/60000 [==============================] - 13s 223us/step - loss: 0.0247 - acc: 0.9930 - val_loss: 0.0445 - val_acc: 0.9901\n",
      "Test loss: 0.044529276187303415\n",
      "Test accuracy: 0.9901\n"
     ]
    }
   ],
   "source": [
    "model = Sequential()\n",
    "model.add(Conv2D(32, kernel_size=(7, 7),\n",
    "                 activation='relu',\n",
    "                 input_shape=input_shape, padding = 'same'))\n",
    "model.add(Conv2D(32, (7, 7), activation='relu', padding = 'same'))\n",
    "model.add(Conv2D(32, (7, 7), activation='relu', padding = 'same'))\n",
    "model.add(Conv2D(16, (7, 7), activation='relu', padding = 'same'))\n",
    "model.add(Conv2D(16, (7, 7), activation='relu', padding = 'same'))\n",
    "model.add(Conv2D(16, (7, 7), activation='relu', padding = 'same'))\n",
    "model.add(Conv2D(16, (7, 7), activation='relu', padding = 'same'))\n",
    "model.add(Conv2D(16, (7, 7), activation='relu', padding = 'same'))\n",
    "model.add(MaxPooling2D(pool_size=(2, 2)))\n",
    "model.add(Dropout(0.3))\n",
    "model.add(Flatten())\n",
    "model.add(Dense(64, activation='relu'))\n",
    "model.add(Dropout(0.5))\n",
    "model.add(Dense(num_classes, activation='softmax'))\n",
    "\n",
    "model.compile(loss=keras.losses.categorical_crossentropy,\n",
    "              optimizer=keras.optimizers.Adadelta(),\n",
    "              metrics=['accuracy'])\n",
    "\n",
    "history = model.fit(x_train, y_train,\n",
    "          batch_size=batch_size,\n",
    "          epochs=epochs,\n",
    "          verbose=1,\n",
    "          validation_data=(x_test, y_test))\n",
    "score = model.evaluate(x_test, y_test, verbose=0)\n",
    "print('Test loss:', score[0])\n",
    "print('Test accuracy:', score[1])"
   ]
  },
  {
   "cell_type": "code",
   "execution_count": 18,
   "metadata": {},
   "outputs": [
    {
     "name": "stdout",
     "output_type": "stream",
     "text": [
      "Test score: 0.044529276187303415\n",
      "Test accuracy: 0.9901\n"
     ]
    },
    {
     "data": {
      "image/png": "[encoded data removed]",
      "text/plain": [
       "<Figure size 432x288 with 1 Axes>"
      ]
     },
     "metadata": {
      "needs_background": "light"
     },
     "output_type": "display_data"
    }
   ],
   "source": [
    "import matplotlib.pyplot as plt\n",
    "score = model.evaluate(x_test, y_test, verbose=0) \n",
    "print('Test score:', score[0]) \n",
    "print('Test accuracy:', score[1])\n",
    "\n",
    "fig,ax = plt.subplots(1,1)\n",
    "ax.set_xlabel('epoch') ; ax.set_ylabel('Categorical Crossentropy Loss')\n",
    "\n",
    "# list of epoch numbers\n",
    "x = list(range(1,epochs+1))\n",
    "\n",
    "# print(history.history.keys())\n",
    "# dict_keys(['val_loss', 'val_acc', 'loss', 'acc'])\n",
    "# history = model_drop.fit(X_train, Y_train, batch_size=batch_size, epochs=nb_epoch, verbose=1, validation_data=(X_test, Y_test))\n",
    "\n",
    "# we will get val_loss and val_acc only when you pass the paramter validation_data\n",
    "# val_loss : validation loss\n",
    "# val_acc : validation accuracy\n",
    "\n",
    "# loss : training loss\n",
    "# acc : train accuracy\n",
    "# for each key in histrory.histrory we will have a list of length equal to number of epochs\n",
    "def plt_dynamic(x, vy, ty, ax, colors=['b']):\n",
    "    ax.plot(x, vy, 'b', label=\"Validation Loss\")\n",
    "    ax.plot(x, ty, 'r', label=\"Train Loss\")\n",
    "    plt.legend()\n",
    "    plt.grid()\n",
    "    fig.canvas.draw()\n",
    "\n",
    "vy = history.history['val_loss']\n",
    "ty = history.history['loss']\n",
    "plt_dynamic(x, vy, ty, ax)"
   ]
  },
  {
   "cell_type": "markdown",
   "metadata": {},
   "source": [
    "<h1>Considered 3 *3 Kernel size, 3 Layers and Used SGD Classifier</h1>"
   ]
  },
  {
   "cell_type": "code",
   "execution_count": 11,
   "metadata": {},
   "outputs": [
    {
     "name": "stdout",
     "output_type": "stream",
     "text": [
      "Train on 60000 samples, validate on 10000 samples\n",
      "Epoch 1/12\n",
      "60000/60000 [==============================] - 4s 69us/step - loss: 2.4847 - acc: 0.1007 - val_loss: 2.2876 - val_acc: 0.1388\n",
      "Epoch 2/12\n",
      "60000/60000 [==============================] - 4s 63us/step - loss: 2.3916 - acc: 0.1219 - val_loss: 2.1568 - val_acc: 0.3522\n",
      "Epoch 3/12\n",
      "60000/60000 [==============================] - 4s 63us/step - loss: 1.8688 - acc: 0.3532 - val_loss: 1.1178 - val_acc: 0.7546\n",
      "Epoch 4/12\n",
      "60000/60000 [==============================] - 4s 63us/step - loss: 1.0878 - acc: 0.6652 - val_loss: 0.5801 - val_acc: 0.8539\n",
      "Epoch 5/12\n",
      "60000/60000 [==============================] - 4s 63us/step - loss: 0.7266 - acc: 0.7937 - val_loss: 0.3752 - val_acc: 0.8993\n",
      "Epoch 6/12\n",
      "60000/60000 [==============================] - 4s 63us/step - loss: 0.5531 - acc: 0.8442 - val_loss: 0.2910 - val_acc: 0.9138\n",
      "Epoch 7/12\n",
      "60000/60000 [==============================] - 4s 63us/step - loss: 0.4553 - acc: 0.8715 - val_loss: 0.2255 - val_acc: 0.9336\n",
      "Epoch 8/12\n",
      "60000/60000 [==============================] - 4s 63us/step - loss: 0.3893 - acc: 0.8903 - val_loss: 0.1933 - val_acc: 0.9427\n",
      "Epoch 9/12\n",
      "60000/60000 [==============================] - 4s 63us/step - loss: 0.3491 - acc: 0.9016 - val_loss: 0.1743 - val_acc: 0.9449\n",
      "Epoch 10/12\n",
      "60000/60000 [==============================] - 4s 63us/step - loss: 0.3126 - acc: 0.9121 - val_loss: 0.1570 - val_acc: 0.9523\n",
      "Epoch 11/12\n",
      "60000/60000 [==============================] - 4s 65us/step - loss: 0.2852 - acc: 0.9184 - val_loss: 0.1393 - val_acc: 0.9576\n",
      "Epoch 12/12\n",
      "60000/60000 [==============================] - 4s 65us/step - loss: 0.2687 - acc: 0.9243 - val_loss: 0.1304 - val_acc: 0.9594\n",
      "Test loss: 0.13040602896511555\n",
      "Test accuracy: 0.9594\n"
     ]
    }
   ],
   "source": [
    "model = Sequential()\n",
    "model.add(Conv2D(32, kernel_size=(3, 3),\n",
    "                 activation='relu',\n",
    "                 input_shape=input_shape))\n",
    "model.add(Conv2D(64, (3, 3), activation='relu'))\n",
    "model.add(MaxPooling2D(pool_size=(2, 2)))\n",
    "model.add(Conv2D(64, (3, 3), activation = 'relu'))\n",
    "model.add(MaxPooling2D(pool_size = (2, 2)))\n",
    "model.add(Conv2D(64, (3, 3), activation = 'relu'))\n",
    "model.add(MaxPooling2D(pool_size = (2, 2)))\n",
    "model.add(Dropout(0.25))\n",
    "model.add(Flatten())\n",
    "model.add(Dense(128, activation='sigmoid'))\n",
    "model.add(Dropout(0.5))\n",
    "model.add(Dense(num_classes, activation='softmax'))\n",
    "\n",
    "model.compile(loss=keras.losses.categorical_crossentropy,\n",
    "              optimizer=keras.optimizers.SGD(),\n",
    "              metrics=['accuracy'])\n",
    "\n",
    "history = model.fit(x_train, y_train,\n",
    "          batch_size=batch_size,\n",
    "          epochs=epochs,\n",
    "          verbose=1,\n",
    "          validation_data=(x_test, y_test))\n",
    "score = model.evaluate(x_test, y_test, verbose=0)\n",
    "print('Test loss:', score[0])\n",
    "print('Test accuracy:', score[1])"
   ]
  },
  {
   "cell_type": "markdown",
   "metadata": {},
   "source": [
    "<h1>3 * 3 Kernel Size, 3 Layers, Activation = Relu, Optimizer = Adam</h1>"
   ]
  },
  {
   "cell_type": "code",
   "execution_count": 32,
   "metadata": {},
   "outputs": [
    {
     "name": "stdout",
     "output_type": "stream",
     "text": [
      "Train on 60000 samples, validate on 10000 samples\n",
      "Epoch 1/12\n",
      "60000/60000 [==============================] - 6s 92us/step - loss: 0.6628 - acc: 0.7951 - val_loss: 0.0972 - val_acc: 0.9707\n",
      "Epoch 2/12\n",
      "60000/60000 [==============================] - 4s 74us/step - loss: 0.1676 - acc: 0.9542 - val_loss: 0.0624 - val_acc: 0.9814\n",
      "Epoch 3/12\n",
      "60000/60000 [==============================] - 4s 71us/step - loss: 0.1191 - acc: 0.9674 - val_loss: 0.0518 - val_acc: 0.9847\n",
      "Epoch 4/12\n",
      "60000/60000 [==============================] - 4s 72us/step - loss: 0.0949 - acc: 0.9742 - val_loss: 0.0469 - val_acc: 0.9864\n",
      "Epoch 5/12\n",
      "60000/60000 [==============================] - 4s 72us/step - loss: 0.0782 - acc: 0.9785 - val_loss: 0.0429 - val_acc: 0.9885\n",
      "Epoch 6/12\n",
      "60000/60000 [==============================] - 4s 74us/step - loss: 0.0699 - acc: 0.9807 - val_loss: 0.0379 - val_acc: 0.9892\n",
      "Epoch 7/12\n",
      "60000/60000 [==============================] - 4s 71us/step - loss: 0.0588 - acc: 0.9844 - val_loss: 0.0333 - val_acc: 0.9913\n",
      "Epoch 8/12\n",
      "60000/60000 [==============================] - 4s 71us/step - loss: 0.0531 - acc: 0.9854 - val_loss: 0.0340 - val_acc: 0.9900\n",
      "Epoch 9/12\n",
      "60000/60000 [==============================] - 4s 72us/step - loss: 0.0461 - acc: 0.9876 - val_loss: 0.0340 - val_acc: 0.9911\n",
      "Epoch 10/12\n",
      "60000/60000 [==============================] - 4s 73us/step - loss: 0.0480 - acc: 0.9867 - val_loss: 0.0338 - val_acc: 0.9904\n",
      "Epoch 11/12\n",
      "60000/60000 [==============================] - 4s 74us/step - loss: 0.0409 - acc: 0.9887 - val_loss: 0.0305 - val_acc: 0.9923\n",
      "Epoch 12/12\n",
      "60000/60000 [==============================] - 5s 76us/step - loss: 0.0403 - acc: 0.9887 - val_loss: 0.0316 - val_acc: 0.9915\n",
      "Test loss: 0.031624150087183805\n",
      "Test accuracy: 0.9915\n"
     ]
    }
   ],
   "source": [
    "model = Sequential()\n",
    "model.add(Conv2D(32, kernel_size=(3, 3),\n",
    "                 activation='relu',\n",
    "                 input_shape=input_shape))\n",
    "model.add(Conv2D(64, (3, 3), activation='relu'))\n",
    "model.add(MaxPooling2D(pool_size=(2, 2)))\n",
    "model.add(Conv2D(64, (3, 3), activation = 'relu'))\n",
    "model.add(MaxPooling2D(pool_size = (2, 2)))\n",
    "model.add(Conv2D(64, (3, 3), activation = 'relu'))\n",
    "model.add(MaxPooling2D(pool_size = (2, 2)))\n",
    "model.add(Dropout(0.25))\n",
    "model.add(Flatten())\n",
    "model.add(Dense(128, activation='sigmoid'))\n",
    "model.add(Dropout(0.5))\n",
    "model.add(Dense(num_classes, activation='softmax'))\n",
    "\n",
    "model.compile(loss=keras.losses.categorical_crossentropy,\n",
    "              optimizer=keras.optimizers.adam(),\n",
    "              metrics=['accuracy'])\n",
    "\n",
    "history = model.fit(x_train, y_train,\n",
    "          batch_size=batch_size,\n",
    "          epochs=epochs,\n",
    "          verbose=1,\n",
    "          validation_data=(x_test, y_test))\n",
    "score = model.evaluate(x_test, y_test, verbose=0)\n",
    "print('Test loss:', score[0])\n",
    "print('Test accuracy:', score[1])"
   ]
  },
  {
   "cell_type": "code",
   "execution_count": 34,
   "metadata": {},
   "outputs": [
    {
     "name": "stdout",
     "output_type": "stream",
     "text": [
      "Test score: 0.031624150087183805\n",
      "Test accuracy: 0.9915\n"
     ]
    },
    {
     "data": {
      "image/png": "[encoded data removed]",
      "text/plain": [
       "<Figure size 432x288 with 1 Axes>"
      ]
     },
     "metadata": {
      "needs_background": "light"
     },
     "output_type": "display_data"
    }
   ],
   "source": [
    "import matplotlib.pyplot as plt\n",
    "score = model.evaluate(x_test, y_test, verbose=0) \n",
    "print('Test score:', score[0]) \n",
    "print('Test accuracy:', score[1])\n",
    "\n",
    "fig,ax = plt.subplots(1,1)\n",
    "ax.set_xlabel('epoch') ; ax.set_ylabel('Categorical Crossentropy Loss')\n",
    "\n",
    "# list of epoch numbers\n",
    "x = list(range(1,epochs+1))\n",
    "\n",
    "# print(history.history.keys())\n",
    "# dict_keys(['val_loss', 'val_acc', 'loss', 'acc'])\n",
    "# history = model_drop.fit(X_train, Y_train, batch_size=batch_size, epochs=nb_epoch, verbose=1, validation_data=(X_test, Y_test))\n",
    "\n",
    "# we will get val_loss and val_acc only when you pass the paramter validation_data\n",
    "# val_loss : validation loss\n",
    "# val_acc : validation accuracy\n",
    "\n",
    "# loss : training loss\n",
    "# acc : train accuracy\n",
    "# for each key in histrory.histrory we will have a list of length equal to number of epochs\n",
    "def plt_dynamic(x, vy, ty, ax, colors=['b']):\n",
    "    ax.plot(x, vy, 'b', label=\"Validation Loss\")\n",
    "    ax.plot(x, ty, 'r', label=\"Train Loss\")\n",
    "    plt.legend()\n",
    "    plt.grid()\n",
    "    fig.canvas.draw()\n",
    "\n",
    "vy = history.history['val_loss']\n",
    "ty = history.history['loss']\n",
    "plt_dynamic(x, vy, ty, ax)"
   ]
  },
  {
   "cell_type": "markdown",
   "metadata": {},
   "source": [
    "<h1>5 * 5 Kernel Size, 5 Layers, Activation = Relu, Optimizer = Adam</h1>"
   ]
  },
  {
   "cell_type": "code",
   "execution_count": 35,
   "metadata": {},
   "outputs": [
    {
     "name": "stdout",
     "output_type": "stream",
     "text": [
      "Train on 60000 samples, validate on 10000 samples\n",
      "Epoch 1/12\n",
      "60000/60000 [==============================] - 14s 240us/step - loss: 0.1915 - acc: 0.9413 - val_loss: 0.0390 - val_acc: 0.9866\n",
      "Epoch 2/12\n",
      "60000/60000 [==============================] - 13s 221us/step - loss: 0.0672 - acc: 0.9807 - val_loss: 0.0335 - val_acc: 0.9900\n",
      "Epoch 3/12\n",
      "60000/60000 [==============================] - 13s 220us/step - loss: 0.0520 - acc: 0.9848 - val_loss: 0.0264 - val_acc: 0.9913\n",
      "Epoch 4/12\n",
      "60000/60000 [==============================] - 13s 221us/step - loss: 0.0445 - acc: 0.9875 - val_loss: 0.0252 - val_acc: 0.9919\n",
      "Epoch 5/12\n",
      "60000/60000 [==============================] - 13s 221us/step - loss: 0.0348 - acc: 0.9901 - val_loss: 0.0216 - val_acc: 0.9931\n",
      "Epoch 6/12\n",
      "60000/60000 [==============================] - 13s 221us/step - loss: 0.0309 - acc: 0.9907 - val_loss: 0.0236 - val_acc: 0.9928\n",
      "Epoch 7/12\n",
      "60000/60000 [==============================] - 13s 221us/step - loss: 0.0301 - acc: 0.9913 - val_loss: 0.0237 - val_acc: 0.9932\n",
      "Epoch 8/12\n",
      "60000/60000 [==============================] - 13s 221us/step - loss: 0.0257 - acc: 0.9925 - val_loss: 0.0161 - val_acc: 0.9944\n",
      "Epoch 9/12\n",
      "60000/60000 [==============================] - 13s 223us/step - loss: 0.0243 - acc: 0.9929 - val_loss: 0.0215 - val_acc: 0.9932\n",
      "Epoch 10/12\n",
      "60000/60000 [==============================] - 13s 222us/step - loss: 0.0210 - acc: 0.9934 - val_loss: 0.0180 - val_acc: 0.9945\n",
      "Epoch 11/12\n",
      "60000/60000 [==============================] - 13s 221us/step - loss: 0.0187 - acc: 0.9944 - val_loss: 0.0207 - val_acc: 0.9933\n",
      "Epoch 12/12\n",
      "60000/60000 [==============================] - 13s 220us/step - loss: 0.0183 - acc: 0.9947 - val_loss: 0.0222 - val_acc: 0.9937\n",
      "Test loss: 0.02219896526079824\n",
      "Test accuracy: 0.9937\n"
     ]
    }
   ],
   "source": [
    "model = Sequential()\n",
    "model.add(Conv2D(32, kernel_size=(1, 1),\n",
    "                 activation='relu',\n",
    "                 input_shape=input_shape, padding = 'same'))\n",
    "model.add(Conv2D(64, (5, 5), activation='relu', padding = 'same'))\n",
    "model.add(Conv2D(64, (5, 5), activation='relu', padding = 'same'))\n",
    "model.add(Conv2D(64, (5, 5), activation='relu', padding = 'same'))\n",
    "model.add(Conv2D(64, (5, 5), activation='relu', padding = 'same'))\n",
    "model.add(Conv2D(64, (5, 5), activation='relu', padding = 'same'))\n",
    "model.add(MaxPooling2D(pool_size=(2, 2)))\n",
    "model.add(Dropout(0.25))\n",
    "model.add(Flatten())\n",
    "model.add(Dense(128, activation='relu'))\n",
    "model.add(Dropout(0.5))\n",
    "model.add(Dense(num_classes, activation='softmax'))\n",
    "\n",
    "model.compile(loss=keras.losses.categorical_crossentropy,\n",
    "              optimizer=keras.optimizers.adam(),\n",
    "              metrics=['accuracy'])\n",
    "\n",
    "history = model.fit(x_train, y_train,\n",
    "          batch_size=batch_size,\n",
    "          epochs=epochs,\n",
    "          verbose=1,\n",
    "          validation_data=(x_test, y_test))\n",
    "score = model.evaluate(x_test, y_test, verbose=0)\n",
    "print('Test loss:', score[0])\n",
    "print('Test accuracy:', score[1])"
   ]
  },
  {
   "cell_type": "code",
   "execution_count": 36,
   "metadata": {},
   "outputs": [
    {
     "name": "stdout",
     "output_type": "stream",
     "text": [
      "Test score: 0.02219896526079824\n",
      "Test accuracy: 0.9937\n"
     ]
    },
    {
     "data": {
      "image/png": "[encoded data removed]",
      "text/plain": [
       "<Figure size 432x288 with 1 Axes>"
      ]
     },
     "metadata": {
      "needs_background": "light"
     },
     "output_type": "display_data"
    }
   ],
   "source": [
    "import matplotlib.pyplot as plt\n",
    "score = model.evaluate(x_test, y_test, verbose=0) \n",
    "print('Test score:', score[0]) \n",
    "print('Test accuracy:', score[1])\n",
    "\n",
    "fig,ax = plt.subplots(1,1)\n",
    "ax.set_xlabel('epoch') ; ax.set_ylabel('Categorical Crossentropy Loss')\n",
    "\n",
    "# list of epoch numbers\n",
    "x = list(range(1,epochs+1))\n",
    "\n",
    "# print(history.history.keys())\n",
    "# dict_keys(['val_loss', 'val_acc', 'loss', 'acc'])\n",
    "# history = model_drop.fit(X_train, Y_train, batch_size=batch_size, epochs=nb_epoch, verbose=1, validation_data=(X_test, Y_test))\n",
    "\n",
    "# we will get val_loss and val_acc only when you pass the paramter validation_data\n",
    "# val_loss : validation loss\n",
    "# val_acc : validation accuracy\n",
    "\n",
    "# loss : training loss\n",
    "# acc : train accuracy\n",
    "# for each key in histrory.histrory we will have a list of length equal to number of epochs\n",
    "def plt_dynamic(x, vy, ty, ax, colors=['b']):\n",
    "    ax.plot(x, vy, 'b', label=\"Validation Loss\")\n",
    "    ax.plot(x, ty, 'r', label=\"Train Loss\")\n",
    "    plt.legend()\n",
    "    plt.grid()\n",
    "    fig.canvas.draw()\n",
    "\n",
    "vy = history.history['val_loss']\n",
    "ty = history.history['loss']\n",
    "plt_dynamic(x, vy, ty, ax)"
   ]
  },
  {
   "cell_type": "markdown",
   "metadata": {},
   "source": [
    "<h1>5 * 5 Kernel Size, 5 Layers, Activation = Relu, Optimizer = Adam, Batch Normalization</h1>"
   ]
  },
  {
   "cell_type": "code",
   "execution_count": 37,
   "metadata": {},
   "outputs": [
    {
     "name": "stdout",
     "output_type": "stream",
     "text": [
      "Train on 60000 samples, validate on 10000 samples\n",
      "Epoch 1/12\n",
      "60000/60000 [==============================] - 19s 322us/step - loss: 0.3306 - acc: 0.9110 - val_loss: 0.0679 - val_acc: 0.9833\n",
      "Epoch 2/12\n",
      "60000/60000 [==============================] - 18s 298us/step - loss: 0.1340 - acc: 0.9652 - val_loss: 0.0665 - val_acc: 0.9825\n",
      "Epoch 3/12\n",
      "60000/60000 [==============================] - 18s 297us/step - loss: 0.0986 - acc: 0.9736 - val_loss: 0.0416 - val_acc: 0.9886\n",
      "Epoch 4/12\n",
      "60000/60000 [==============================] - 18s 297us/step - loss: 0.0828 - acc: 0.9788 - val_loss: 0.0280 - val_acc: 0.9923\n",
      "Epoch 5/12\n",
      "60000/60000 [==============================] - 18s 298us/step - loss: 0.0708 - acc: 0.9815 - val_loss: 0.0369 - val_acc: 0.9919\n",
      "Epoch 6/12\n",
      "60000/60000 [==============================] - 18s 298us/step - loss: 0.0698 - acc: 0.9817 - val_loss: 0.0417 - val_acc: 0.9897\n",
      "Epoch 7/12\n",
      "60000/60000 [==============================] - 18s 298us/step - loss: 0.0574 - acc: 0.9849 - val_loss: 0.0338 - val_acc: 0.9919\n",
      "Epoch 8/12\n",
      "60000/60000 [==============================] - 18s 298us/step - loss: 0.0527 - acc: 0.9858 - val_loss: 0.0229 - val_acc: 0.9941\n",
      "Epoch 9/12\n",
      "60000/60000 [==============================] - 18s 297us/step - loss: 0.0465 - acc: 0.9871 - val_loss: 0.0250 - val_acc: 0.9925\n",
      "Epoch 10/12\n",
      "60000/60000 [==============================] - 18s 297us/step - loss: 0.0458 - acc: 0.9876 - val_loss: 0.0392 - val_acc: 0.9905\n",
      "Epoch 11/12\n",
      "60000/60000 [==============================] - 18s 297us/step - loss: 0.0401 - acc: 0.9885 - val_loss: 0.0385 - val_acc: 0.9911\n",
      "Epoch 12/12\n",
      "60000/60000 [==============================] - 18s 297us/step - loss: 0.0402 - acc: 0.9889 - val_loss: 0.0392 - val_acc: 0.9897\n",
      "Test loss: 0.03915463453043594\n",
      "Test accuracy: 0.9897\n"
     ]
    }
   ],
   "source": [
    "from keras.layers.normalization import BatchNormalization\n",
    "model = Sequential()\n",
    "model.add(Conv2D(32, kernel_size=(1, 1),\n",
    "                 activation='relu',\n",
    "                 input_shape=input_shape, padding = 'same'))\n",
    "model.add(Conv2D(64, (5, 5), activation='relu', padding = 'same'))\n",
    "model.add(BatchNormalization())\n",
    "model.add(Conv2D(64, (5, 5), activation='relu', padding = 'same'))\n",
    "model.add(BatchNormalization())\n",
    "model.add(Conv2D(64, (5, 5), activation='relu', padding = 'same'))\n",
    "model.add(BatchNormalization())\n",
    "model.add(Conv2D(64, (5, 5), activation='relu', padding = 'same'))\n",
    "model.add(BatchNormalization())\n",
    "model.add(Conv2D(64, (5, 5), activation='relu', padding = 'same'))\n",
    "model.add(BatchNormalization())\n",
    "model.add(MaxPooling2D(pool_size=(2, 2)))\n",
    "model.add(Dropout(0.25))\n",
    "model.add(Flatten())\n",
    "model.add(Dense(128, activation='relu'))\n",
    "model.add(Dropout(0.5))\n",
    "model.add(Dense(num_classes, activation='softmax'))\n",
    "\n",
    "model.compile(loss=keras.losses.categorical_crossentropy,\n",
    "              optimizer=keras.optimizers.adam(),\n",
    "              metrics=['accuracy'])\n",
    "\n",
    "history = model.fit(x_train, y_train,\n",
    "          batch_size=batch_size,\n",
    "          epochs=epochs,\n",
    "          verbose=1,\n",
    "          validation_data=(x_test, y_test))\n",
    "score = model.evaluate(x_test, y_test, verbose=0)\n",
    "print('Test loss:', score[0])\n",
    "print('Test accuracy:', score[1])"
   ]
  },
  {
   "cell_type": "code",
   "execution_count": 38,
   "metadata": {},
   "outputs": [
    {
     "name": "stdout",
     "output_type": "stream",
     "text": [
      "Test score: 0.03915463453043594\n",
      "Test accuracy: 0.9897\n"
     ]
    },
    {
     "data": {
      "image/png": "[encoded data removed]",
      "text/plain": [
       "<Figure size 432x288 with 1 Axes>"
      ]
     },
     "metadata": {
      "needs_background": "light"
     },
     "output_type": "display_data"
    }
   ],
   "source": [
    "import matplotlib.pyplot as plt\n",
    "score = model.evaluate(x_test, y_test, verbose=0) \n",
    "print('Test score:', score[0]) \n",
    "print('Test accuracy:', score[1])\n",
    "\n",
    "fig,ax = plt.subplots(1,1)\n",
    "ax.set_xlabel('epoch') ; ax.set_ylabel('Categorical Crossentropy Loss')\n",
    "\n",
    "# list of epoch numbers\n",
    "x = list(range(1,epochs+1))\n",
    "\n",
    "# print(history.history.keys())\n",
    "# dict_keys(['val_loss', 'val_acc', 'loss', 'acc'])\n",
    "# history = model_drop.fit(X_train, Y_train, batch_size=batch_size, epochs=nb_epoch, verbose=1, validation_data=(X_test, Y_test))\n",
    "\n",
    "# we will get val_loss and val_acc only when you pass the paramter validation_data\n",
    "# val_loss : validation loss\n",
    "# val_acc : validation accuracy\n",
    "\n",
    "# loss : training loss\n",
    "# acc : train accuracy\n",
    "# for each key in histrory.histrory we will have a list of length equal to number of epochs\n",
    "def plt_dynamic(x, vy, ty, ax, colors=['b']):\n",
    "    ax.plot(x, vy, 'b', label=\"Validation Loss\")\n",
    "    ax.plot(x, ty, 'r', label=\"Train Loss\")\n",
    "    plt.legend()\n",
    "    plt.grid()\n",
    "    fig.canvas.draw()\n",
    "\n",
    "vy = history.history['val_loss']\n",
    "ty = history.history['loss']\n",
    "plt_dynamic(x, vy, ty, ax)"
   ]
  },
  {
   "cell_type": "markdown",
   "metadata": {},
   "source": [
    "<h1>5 * 5 Kernel Size, 5 Layers, Activation = Relu, Optimizer = Adam, Batch Normalization, Different Drop Out Rate</h1>"
   ]
  },
  {
   "cell_type": "code",
   "execution_count": 39,
   "metadata": {},
   "outputs": [
    {
     "name": "stdout",
     "output_type": "stream",
     "text": [
      "Train on 60000 samples, validate on 10000 samples\n",
      "Epoch 1/12\n",
      "60000/60000 [==============================] - 21s 347us/step - loss: 0.3210 - acc: 0.9435 - val_loss: 0.0678 - val_acc: 0.9823\n",
      "Epoch 2/12\n",
      "60000/60000 [==============================] - 19s 319us/step - loss: 0.0900 - acc: 0.9766 - val_loss: 0.0635 - val_acc: 0.9846\n",
      "Epoch 3/12\n",
      "60000/60000 [==============================] - 19s 319us/step - loss: 0.0669 - acc: 0.9822 - val_loss: 0.0325 - val_acc: 0.9912\n",
      "Epoch 4/12\n",
      "60000/60000 [==============================] - 19s 319us/step - loss: 0.0551 - acc: 0.9852 - val_loss: 0.0320 - val_acc: 0.9932\n",
      "Epoch 5/12\n",
      "60000/60000 [==============================] - 19s 320us/step - loss: 0.0527 - acc: 0.9857 - val_loss: 0.0510 - val_acc: 0.9885\n",
      "Epoch 6/12\n",
      "60000/60000 [==============================] - 19s 320us/step - loss: 0.0461 - acc: 0.9879 - val_loss: 0.0229 - val_acc: 0.9941\n",
      "Epoch 7/12\n",
      "60000/60000 [==============================] - 19s 320us/step - loss: 0.0426 - acc: 0.9891 - val_loss: 0.0292 - val_acc: 0.9938\n",
      "Epoch 8/12\n",
      "60000/60000 [==============================] - 19s 320us/step - loss: 0.0400 - acc: 0.9901 - val_loss: 0.0404 - val_acc: 0.9904\n",
      "Epoch 9/12\n",
      "60000/60000 [==============================] - 19s 320us/step - loss: 0.0355 - acc: 0.9912 - val_loss: 0.0188 - val_acc: 0.9948\n",
      "Epoch 10/12\n",
      "60000/60000 [==============================] - 19s 319us/step - loss: 0.0289 - acc: 0.9920 - val_loss: 0.0244 - val_acc: 0.9940\n",
      "Epoch 11/12\n",
      "60000/60000 [==============================] - 19s 319us/step - loss: 0.0276 - acc: 0.9929 - val_loss: 0.0346 - val_acc: 0.9933\n",
      "Epoch 12/12\n",
      "60000/60000 [==============================] - 19s 319us/step - loss: 0.0305 - acc: 0.9922 - val_loss: 0.0314 - val_acc: 0.9917\n",
      "Test loss: 0.031365343403523864\n",
      "Test accuracy: 0.9917\n"
     ]
    }
   ],
   "source": [
    "from keras.layers.normalization import BatchNormalization\n",
    "model = Sequential()\n",
    "model.add(Conv2D(32, kernel_size=(1, 1),\n",
    "                 activation='relu',\n",
    "                 input_shape=input_shape, padding = 'same'))\n",
    "model.add(Conv2D(64, (5, 5), activation='relu', padding = 'same'))\n",
    "model.add(BatchNormalization())\n",
    "model.add(Conv2D(64, (5, 5), activation='relu', padding = 'same'))\n",
    "model.add(BatchNormalization())\n",
    "model.add(Conv2D(64, (5, 5), activation='relu', padding = 'same'))\n",
    "model.add(BatchNormalization())\n",
    "model.add(Conv2D(64, (5, 5), activation='relu', padding = 'same'))\n",
    "model.add(BatchNormalization())\n",
    "model.add(Conv2D(64, (5, 5), activation='relu', padding = 'same'))\n",
    "model.add(BatchNormalization())\n",
    "model.add(MaxPooling2D(pool_size=(2, 2)))\n",
    "model.add(Dropout(0.2))\n",
    "model.add(Flatten())\n",
    "model.add(Dense(512, activation='relu'))\n",
    "model.add(Dropout(0.4))\n",
    "model.add(Dense(num_classes, activation='softmax'))\n",
    "\n",
    "model.compile(loss=keras.losses.categorical_crossentropy,\n",
    "              optimizer=keras.optimizers.adam(),\n",
    "              metrics=['accuracy'])\n",
    "\n",
    "history = model.fit(x_train, y_train,\n",
    "          batch_size=batch_size,\n",
    "          epochs=epochs,\n",
    "          verbose=1,\n",
    "          validation_data=(x_test, y_test))\n",
    "score = model.evaluate(x_test, y_test, verbose=0)\n",
    "print('Test loss:', score[0])\n",
    "print('Test accuracy:', score[1])"
   ]
  },
  {
   "cell_type": "code",
   "execution_count": 40,
   "metadata": {},
   "outputs": [
    {
     "name": "stdout",
     "output_type": "stream",
     "text": [
      "Test score: 0.031365343403523864\n",
      "Test accuracy: 0.9917\n"
     ]
    },
    {
     "data": {
      "image/png": "[encoded data removed]",
      "text/plain": [
       "<Figure size 432x288 with 1 Axes>"
      ]
     },
     "metadata": {
      "needs_background": "light"
     },
     "output_type": "display_data"
    }
   ],
   "source": [
    "import matplotlib.pyplot as plt\n",
    "score = model.evaluate(x_test, y_test, verbose=0) \n",
    "print('Test score:', score[0]) \n",
    "print('Test accuracy:', score[1])\n",
    "\n",
    "fig,ax = plt.subplots(1,1)\n",
    "ax.set_xlabel('epoch') ; ax.set_ylabel('Categorical Crossentropy Loss')\n",
    "\n",
    "# list of epoch numbers\n",
    "x = list(range(1,epochs+1))\n",
    "\n",
    "# print(history.history.keys())\n",
    "# dict_keys(['val_loss', 'val_acc', 'loss', 'acc'])\n",
    "# history = model_drop.fit(X_train, Y_train, batch_size=batch_size, epochs=nb_epoch, verbose=1, validation_data=(X_test, Y_test))\n",
    "\n",
    "# we will get val_loss and val_acc only when you pass the paramter validation_data\n",
    "# val_loss : validation loss\n",
    "# val_acc : validation accuracy\n",
    "\n",
    "# loss : training loss\n",
    "# acc : train accuracy\n",
    "# for each key in histrory.histrory we will have a list of length equal to number of epochs\n",
    "def plt_dynamic(x, vy, ty, ax, colors=['b']):\n",
    "    ax.plot(x, vy, 'b', label=\"Validation Loss\")\n",
    "    ax.plot(x, ty, 'r', label=\"Train Loss\")\n",
    "    plt.legend()\n",
    "    plt.grid()\n",
    "    fig.canvas.draw()\n",
    "\n",
    "vy = history.history['val_loss']\n",
    "ty = history.history['loss']\n",
    "plt_dynamic(x, vy, ty, ax)"
   ]
  },
  {
   "cell_type": "markdown",
   "metadata": {},
   "source": [
    "<h1>5 * 5 Kernel Size, 5 Layers, Activation = Leaky Relu, Optimizer = Adam, Batch Normalization, Different Drop Out Rate</h1>"
   ]
  },
  {
   "cell_type": "code",
   "execution_count": 41,
   "metadata": {},
   "outputs": [],
   "source": [
    "from keras.layers import LeakyReLU"
   ]
  },
  {
   "cell_type": "code",
   "execution_count": 42,
   "metadata": {},
   "outputs": [
    {
     "name": "stdout",
     "output_type": "stream",
     "text": [
      "Train on 60000 samples, validate on 10000 samples\n",
      "Epoch 1/12\n",
      "60000/60000 [==============================] - 22s 368us/step - loss: 0.3258 - acc: 0.9125 - val_loss: 0.0691 - val_acc: 0.9815\n",
      "Epoch 2/12\n",
      "60000/60000 [==============================] - 20s 340us/step - loss: 0.1334 - acc: 0.9643 - val_loss: 0.0627 - val_acc: 0.9843\n",
      "Epoch 3/12\n",
      "60000/60000 [==============================] - 20s 341us/step - loss: 0.1050 - acc: 0.9721 - val_loss: 0.0393 - val_acc: 0.9908\n",
      "Epoch 4/12\n",
      "60000/60000 [==============================] - 20s 341us/step - loss: 0.0848 - acc: 0.9775 - val_loss: 0.0304 - val_acc: 0.9918\n",
      "Epoch 5/12\n",
      "60000/60000 [==============================] - 20s 341us/step - loss: 0.0717 - acc: 0.9809 - val_loss: 0.0394 - val_acc: 0.9889\n",
      "Epoch 6/12\n",
      "60000/60000 [==============================] - 20s 341us/step - loss: 0.0650 - acc: 0.9825 - val_loss: 0.0342 - val_acc: 0.9896\n",
      "Epoch 7/12\n",
      "60000/60000 [==============================] - 20s 341us/step - loss: 0.0578 - acc: 0.9841 - val_loss: 0.0311 - val_acc: 0.9923\n",
      "Epoch 8/12\n",
      "60000/60000 [==============================] - 20s 341us/step - loss: 0.0559 - acc: 0.9852 - val_loss: 0.0285 - val_acc: 0.9929\n",
      "Epoch 9/12\n",
      "60000/60000 [==============================] - 20s 341us/step - loss: 0.0507 - acc: 0.9867 - val_loss: 0.0302 - val_acc: 0.9921\n",
      "Epoch 10/12\n",
      "60000/60000 [==============================] - 20s 341us/step - loss: 0.0501 - acc: 0.9869 - val_loss: 0.0296 - val_acc: 0.9923\n",
      "Epoch 11/12\n",
      "60000/60000 [==============================] - 20s 341us/step - loss: 0.0432 - acc: 0.9880 - val_loss: 0.0332 - val_acc: 0.9905\n",
      "Epoch 12/12\n",
      "60000/60000 [==============================] - 20s 341us/step - loss: 0.0403 - acc: 0.9884 - val_loss: 0.0464 - val_acc: 0.9904\n",
      "Test loss: 0.046368180213025155\n",
      "Test accuracy: 0.9904\n"
     ]
    }
   ],
   "source": [
    "from keras.layers.normalization import BatchNormalization\n",
    "model = Sequential()\n",
    "model.add(Conv2D(32, kernel_size=(1, 1),\n",
    "                 activation='relu',\n",
    "                 input_shape=input_shape, padding = 'same'))\n",
    "model.add(Conv2D(64, (5, 5), padding = 'same'))\n",
    "model.add(LeakyReLU(alpha = 0.05))\n",
    "model.add(BatchNormalization())\n",
    "model.add(Conv2D(64, (5, 5), padding = 'same'))\n",
    "model.add(LeakyReLU(alpha = 0.05))\n",
    "model.add(BatchNormalization())\n",
    "model.add(Conv2D(64, (5, 5), padding = 'same'))\n",
    "model.add(LeakyReLU(alpha = 0.05))\n",
    "model.add(BatchNormalization())\n",
    "model.add(Conv2D(64, (5, 5), padding = 'same'))\n",
    "model.add(LeakyReLU(alpha = 0.05))\n",
    "model.add(BatchNormalization())\n",
    "model.add(Conv2D(64, (5, 5), padding = 'same'))\n",
    "model.add(LeakyReLU(alpha = 0.05))\n",
    "model.add(BatchNormalization())\n",
    "model.add(MaxPooling2D(pool_size=(2, 2)))\n",
    "model.add(Dropout(0.25))\n",
    "model.add(Flatten())\n",
    "model.add(Dense(128, activation='relu'))\n",
    "model.add(Dropout(0.5))\n",
    "model.add(Dense(num_classes, activation='softmax'))\n",
    "\n",
    "model.compile(loss=keras.losses.categorical_crossentropy,\n",
    "              optimizer=keras.optimizers.adam(),\n",
    "              metrics=['accuracy'])\n",
    "\n",
    "history = model.fit(x_train, y_train,\n",
    "          batch_size=batch_size,\n",
    "          epochs=epochs,\n",
    "          verbose=1,\n",
    "          validation_data=(x_test, y_test))\n",
    "score = model.evaluate(x_test, y_test, verbose=0)\n",
    "print('Test loss:', score[0])\n",
    "print('Test accuracy:', score[1])"
   ]
  },
  {
   "cell_type": "code",
   "execution_count": 43,
   "metadata": {},
   "outputs": [
    {
     "name": "stdout",
     "output_type": "stream",
     "text": [
      "Test score: 0.046368180213025155\n",
      "Test accuracy: 0.9904\n"
     ]
    },
    {
     "data": {
      "image/png": "[encoded data removed]",
      "text/plain": [
       "<Figure size 432x288 with 1 Axes>"
      ]
     },
     "metadata": {
      "needs_background": "light"
     },
     "output_type": "display_data"
    }
   ],
   "source": [
    "import matplotlib.pyplot as plt\n",
    "score = model.evaluate(x_test, y_test, verbose=0) \n",
    "print('Test score:', score[0]) \n",
    "print('Test accuracy:', score[1])\n",
    "\n",
    "fig,ax = plt.subplots(1,1)\n",
    "ax.set_xlabel('epoch') ; ax.set_ylabel('Categorical Crossentropy Loss')\n",
    "\n",
    "# list of epoch numbers\n",
    "x = list(range(1,epochs+1))\n",
    "\n",
    "# print(history.history.keys())\n",
    "# dict_keys(['val_loss', 'val_acc', 'loss', 'acc'])\n",
    "# history = model_drop.fit(X_train, Y_train, batch_size=batch_size, epochs=nb_epoch, verbose=1, validation_data=(X_test, Y_test))\n",
    "\n",
    "# we will get val_loss and val_acc only when you pass the paramter validation_data\n",
    "# val_loss : validation loss\n",
    "# val_acc : validation accuracy\n",
    "\n",
    "# loss : training loss\n",
    "# acc : train accuracy\n",
    "# for each key in histrory.histrory we will have a list of length equal to number of epochs\n",
    "def plt_dynamic(x, vy, ty, ax, colors=['b']):\n",
    "    ax.plot(x, vy, 'b', label=\"Validation Loss\")\n",
    "    ax.plot(x, ty, 'r', label=\"Train Loss\")\n",
    "    plt.legend()\n",
    "    plt.grid()\n",
    "    fig.canvas.draw()\n",
    "\n",
    "vy = history.history['val_loss']\n",
    "ty = history.history['loss']\n",
    "plt_dynamic(x, vy, ty, ax)"
   ]
  },
  {
   "cell_type": "markdown",
   "metadata": {},
   "source": [
    "<h1>5 * 5 Kernel Size, 5 Layers, Activation = Relu, Optimizer = Adamax, Batch Normalization, Different Drop Out Rate</h1>"
   ]
  },
  {
   "cell_type": "code",
   "execution_count": 44,
   "metadata": {},
   "outputs": [
    {
     "name": "stdout",
     "output_type": "stream",
     "text": [
      "Train on 60000 samples, validate on 10000 samples\n",
      "Epoch 1/12\n",
      "60000/60000 [==============================] - 22s 371us/step - loss: 0.2393 - acc: 0.9362 - val_loss: 0.0810 - val_acc: 0.9744\n",
      "Epoch 2/12\n",
      "60000/60000 [==============================] - 20s 340us/step - loss: 0.0893 - acc: 0.9750 - val_loss: 0.0349 - val_acc: 0.9903\n",
      "Epoch 3/12\n",
      "60000/60000 [==============================] - 20s 340us/step - loss: 0.0750 - acc: 0.9790 - val_loss: 0.0456 - val_acc: 0.9849\n",
      "Epoch 4/12\n",
      "60000/60000 [==============================] - 20s 340us/step - loss: 0.0663 - acc: 0.9819 - val_loss: 0.0476 - val_acc: 0.9848\n",
      "Epoch 5/12\n",
      "60000/60000 [==============================] - 20s 341us/step - loss: 0.0558 - acc: 0.9839 - val_loss: 0.0289 - val_acc: 0.9914\n",
      "Epoch 6/12\n",
      "60000/60000 [==============================] - 20s 341us/step - loss: 0.0497 - acc: 0.9859 - val_loss: 0.0504 - val_acc: 0.9863\n",
      "Epoch 7/12\n",
      "60000/60000 [==============================] - 20s 341us/step - loss: 0.0434 - acc: 0.9877 - val_loss: 0.0260 - val_acc: 0.9925\n",
      "Epoch 8/12\n",
      "60000/60000 [==============================] - 21s 342us/step - loss: 0.0393 - acc: 0.9885 - val_loss: 0.0219 - val_acc: 0.9926\n",
      "Epoch 9/12\n",
      "60000/60000 [==============================] - 20s 341us/step - loss: 0.0383 - acc: 0.9893 - val_loss: 0.0402 - val_acc: 0.9880\n",
      "Epoch 10/12\n",
      "60000/60000 [==============================] - 20s 342us/step - loss: 0.0317 - acc: 0.9908 - val_loss: 0.0212 - val_acc: 0.9920\n",
      "Epoch 11/12\n",
      "60000/60000 [==============================] - 20s 341us/step - loss: 0.0308 - acc: 0.9912 - val_loss: 0.0419 - val_acc: 0.9908\n",
      "Epoch 12/12\n",
      "60000/60000 [==============================] - 21s 342us/step - loss: 0.0278 - acc: 0.9914 - val_loss: 0.0260 - val_acc: 0.9923\n",
      "Test loss: 0.026041309023739724\n",
      "Test accuracy: 0.9923\n"
     ]
    }
   ],
   "source": [
    "from keras.layers.normalization import BatchNormalization\n",
    "model = Sequential()\n",
    "model.add(Conv2D(32, kernel_size=(1, 1), input_shape=input_shape, padding = 'same'))\n",
    "model.add(LeakyReLU(alpha = 0.05))\n",
    "model.add(Conv2D(64, (5, 5), padding = 'same'))\n",
    "model.add(LeakyReLU(alpha = 0.05))\n",
    "model.add(BatchNormalization())\n",
    "model.add(Conv2D(64, (5, 5), padding = 'same'))\n",
    "model.add(LeakyReLU(alpha = 0.05))\n",
    "model.add(BatchNormalization())\n",
    "model.add(Conv2D(64, (5, 5), padding = 'same'))\n",
    "model.add(LeakyReLU(alpha = 0.05))\n",
    "model.add(BatchNormalization())\n",
    "model.add(Conv2D(64, (5, 5), padding = 'same'))\n",
    "model.add(LeakyReLU(alpha = 0.05))\n",
    "model.add(BatchNormalization())\n",
    "model.add(Conv2D(64, (5, 5), padding = 'same'))\n",
    "model.add(LeakyReLU(alpha = 0.05))\n",
    "model.add(BatchNormalization())\n",
    "model.add(MaxPooling2D(pool_size=(2, 2)))\n",
    "model.add(Dropout(0.25))\n",
    "model.add(Flatten())\n",
    "model.add(Dense(128))\n",
    "model.add(LeakyReLU(alpha = 0.05))\n",
    "model.add(Dropout(0.5))\n",
    "model.add(Dense(num_classes, activation='softmax'))\n",
    "\n",
    "model.compile(loss=keras.losses.categorical_crossentropy,\n",
    "              optimizer=keras.optimizers.Adamax(),\n",
    "              metrics=['accuracy'])\n",
    "\n",
    "history = model.fit(x_train, y_train,\n",
    "          batch_size=batch_size,\n",
    "          epochs=epochs,\n",
    "          verbose=1,\n",
    "          validation_data=(x_test, y_test))\n",
    "score = model.evaluate(x_test, y_test, verbose=0)\n",
    "print('Test loss:', score[0])\n",
    "print('Test accuracy:', score[1])"
   ]
  },
  {
   "cell_type": "code",
   "execution_count": 45,
   "metadata": {},
   "outputs": [
    {
     "name": "stdout",
     "output_type": "stream",
     "text": [
      "Test score: 0.026041309023739724\n",
      "Test accuracy: 0.9923\n"
     ]
    },
    {
     "data": {
      "image/png": "[encoded data removed]",
      "text/plain": [
       "<Figure size 432x288 with 1 Axes>"
      ]
     },
     "metadata": {
      "needs_background": "light"
     },
     "output_type": "display_data"
    }
   ],
   "source": [
    "import matplotlib.pyplot as plt\n",
    "score = model.evaluate(x_test, y_test, verbose=0) \n",
    "print('Test score:', score[0]) \n",
    "print('Test accuracy:', score[1])\n",
    "\n",
    "fig,ax = plt.subplots(1,1)\n",
    "ax.set_xlabel('epoch') ; ax.set_ylabel('Categorical Crossentropy Loss')\n",
    "\n",
    "# list of epoch numbers\n",
    "x = list(range(1,epochs+1))\n",
    "\n",
    "# print(history.history.keys())\n",
    "# dict_keys(['val_loss', 'val_acc', 'loss', 'acc'])\n",
    "# history = model_drop.fit(X_train, Y_train, batch_size=batch_size, epochs=nb_epoch, verbose=1, validation_data=(X_test, Y_test))\n",
    "\n",
    "# we will get val_loss and val_acc only when you pass the paramter validation_data\n",
    "# val_loss : validation loss\n",
    "# val_acc : validation accuracy\n",
    "\n",
    "# loss : training loss\n",
    "# acc : train accuracy\n",
    "# for each key in histrory.histrory we will have a list of length equal to number of epochs\n",
    "def plt_dynamic(x, vy, ty, ax, colors=['b']):\n",
    "    ax.plot(x, vy, 'b', label=\"Validation Loss\")\n",
    "    ax.plot(x, ty, 'r', label=\"Train Loss\")\n",
    "    plt.legend()\n",
    "    plt.grid()\n",
    "    fig.canvas.draw()\n",
    "\n",
    "vy = history.history['val_loss']\n",
    "ty = history.history['loss']\n",
    "plt_dynamic(x, vy, ty, ax)"
   ]
  },
  {
   "cell_type": "code",
   "execution_count": 46,
   "metadata": {},
   "outputs": [
    {
     "name": "stdout",
     "output_type": "stream",
     "text": [
      "+-------+--------------+------------------+-----------+---------------+\n",
      "| Model | Kernal Size  | Number of Layers | Test Loss | Test Accuracy |\n",
      "+-------+--------------+------------------+-----------+---------------+\n",
      "|  CNN  |     3*3      |        3         |   0.034   |     0.9918    |\n",
      "|  CNN  |     5*5      |        1         |   0.032   |     0.9907    |\n",
      "|  CNN  |     5*5      |        5         |   0.020   |     0.9945    |\n",
      "|  CNN  |     7*7      |        7         |   0.031   |     0.9901    |\n",
      "+-------+--------------+------------------+-----------+---------------+\n"
     ]
    }
   ],
   "source": [
    "# Please compare all your models using Prettytable library\n",
    "from prettytable import PrettyTable\n",
    "x = PrettyTable()\n",
    "x.field_names = ['Model', 'Kernal Size ', 'Number of Layers', 'Test Loss', 'Test Accuracy']\n",
    "x.add_row([\"CNN\", '3*3', '3', '0.034', '0.9918'])\n",
    "x.add_row([\"CNN\", '5*5', '1', '0.032', '0.9907'])\n",
    "x.add_row([\"CNN\", '5*5', '5', '0.020', '0.9945'])\n",
    "x.add_row([\"CNN\", '7*7', '7', '0.031', '0.9901'])\n",
    "print(x)\n"
   ]
  },
  {
   "cell_type": "markdown",
   "metadata": {},
   "source": [
    "<h1>Conclusion</h1>\n",
    "\n",
    "1. It could be observed that adam optimizer is a very good optimizer that could be used to improve the accuracy on the test set.\n",
    "\n",
    "2. Leaky Relu was also used and the usage ensured that the accuracy increased to a large extent in the model.\n",
    "\n",
    "3. Batch Normalization ensured that there is an increase in accuracy of the model.\n",
    "\n",
    "4. The best model had Batch Normalization, adam optimizer and leaky relu. "
   ]
  }
 ],
 "metadata": {
  "colab": {
   "collapsed_sections": [],
   "name": "CNN_MNIST.ipynb",
   "provenance": [],
   "version": "0.3.2"
  },
  "kernelspec": {
   "display_name": "Python 3",
   "language": "python",
   "name": "python3"
  },
  "language_info": {
   "codemirror_mode": {
    "name": "ipython",
    "version": 3
   },
   "file_extension": ".py",
   "mimetype": "text/x-python",
   "name": "python",
   "nbconvert_exporter": "python",
   "pygments_lexer": "ipython3",
   "version": "3.7.3"
  }
 },
 "nbformat": 4,
 "nbformat_minor": 1
}
